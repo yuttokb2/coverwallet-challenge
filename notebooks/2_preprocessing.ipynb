{
 "cells": [
  {
   "cell_type": "code",
   "execution_count": 3,
   "id": "bb0f49ce",
   "metadata": {},
   "outputs": [],
   "source": [
    "import pandas as pd\n",
    "import numpy as np\n",
    "import matplotlib.pyplot as plt \n",
    "import seaborn as sns\n",
    "from pathlib import Path\n",
    "\n",
    "\n",
    "# En Jupyter, usar el directorio de trabajo actual\n",
    "BASE_DIR = Path.cwd().parent\n",
    "# Para archivos en el mismo directorio\n",
    "account = BASE_DIR / \"data.csv\"\n",
    "\n",
    "# Para archivos en subdirectorios\n",
    "data_file = BASE_DIR / \"data\" / \"raw\" / \"accounts.csv\"\n",
    "\n",
    "\n",
    "def read_data():\n",
    "\n",
    "    accounts_test = pd.read_csv(f'{BASE_DIR}/data/accounts_test.csv',sep=',')\n",
    "    accounts_train = pd.read_csv(f'{BASE_DIR}/data/accounts_train.csv',sep=',')\n",
    "    \n",
    "    quotes_test = pd.read_csv(f'{BASE_DIR}/data/quotes_test.csv',sep=',')\n",
    "    quotes_train = pd.read_csv(f'{BASE_DIR}/data/quotes_train.csv',sep=',')\n",
    "\n",
    "    return accounts_train,accounts_test, quotes_train, accounts_train\n",
    "\n",
    "accounts_train,accounts_test, quotes_train, accounts_train = read_data()"
   ]
  },
  {
   "cell_type": "code",
   "execution_count": 4,
   "id": "0f6695e6",
   "metadata": {},
   "outputs": [],
   "source": [
    "quotes_agg = quotes_train.groupby('account_uuid').agg({\n",
    "    'premium': lambda x: x[quotes_train.loc[x.index, 'convert'] == 1].sum(),\n",
    "    'product': 'count',  # total de productos cotizados\n",
    "})\n",
    "\n",
    "quotes_agg.reset_index(inplace=True)\n",
    "quotes_agg.columns = ['account_uuid','account_value', 'total_quoted_products']\n",
    "\n",
    "data = accounts_train.merge(quotes_agg, on='account_uuid', how='left')"
   ]
  },
  {
   "cell_type": "code",
   "execution_count": 5,
   "id": "0b7a6f7e",
   "metadata": {},
   "outputs": [],
   "source": [
    "dic_states = {    'California': 'CA',\n",
    "    'New York': 'NY',\n",
    "    'PA - Pennsylvania': 'PA',\n",
    "    'Washington DC': 'DC',\n",
    "    'Oregon': 'OR',\n",
    "    'Florida': 'FL'}\n",
    "\n",
    "\n",
    "data['state'] = data['state'].map(dic_states).fillna(data['state'])"
   ]
  },
  {
   "cell_type": "code",
   "execution_count": 9,
   "id": "24d02a81",
   "metadata": {},
   "outputs": [
    {
     "data": {
      "text/plain": [
       "array(['PA', 'TX', 'NY', 'CA', 'AZ', 'FL', 'GA', 'NC', 'VA', 'OH', 'AR',\n",
       "       'IN', 'AL', 'MI', 'NJ', 'MO', 'MD', 'UT', 'KY', 'LA', 'WA', 'CO',\n",
       "       'SC', 'IL', 'MS', 'WI', 'DE', 'OK', 'MA', 'ME', 'NH', 'ID', nan,\n",
       "       'MT', 'WV', 'TN', 'OR', 'CT', 'MN', 'RI', 'NV', 'KS', 'NE', 'NM',\n",
       "       'DC', 'VT', 'SD', 'IA', 'WY', 'ND', 'HI', 'AK'], dtype=object)"
      ]
     },
     "execution_count": 9,
     "metadata": {},
     "output_type": "execute_result"
    }
   ],
   "source": [
    "data['state'].unique()"
   ]
  },
  {
   "cell_type": "code",
   "execution_count": 10,
   "id": "2484e66f",
   "metadata": {},
   "outputs": [
    {
     "data": {
      "text/plain": [
       "array(['Retail Trade', 'Contractors', nan,\n",
       "       'Professional, Scientific and Technical Services', 'Non Profits',\n",
       "       'Transportation and Warehousing', 'Wholesale Trade', 'Education',\n",
       "       'Healthcare', 'Other Services', 'Consultants',\n",
       "       'Administrative Services and Building Maintenance',\n",
       "       'Food and Accommodation', 'Real Estate', 'Manufacturing',\n",
       "       'Construction', 'Finance and Insurance',\n",
       "       'Technology, Media and Telecommunications',\n",
       "       'Sports, Arts, Entertainment, and Recreation',\n",
       "       'Agriculture, Forestry, Fishing and Hunting',\n",
       "       'Rentals and Leasing', 'Home Based Business'], dtype=object)"
      ]
     },
     "execution_count": 10,
     "metadata": {},
     "output_type": "execute_result"
    }
   ],
   "source": [
    "data['industry'].unique()"
   ]
  },
  {
   "cell_type": "code",
   "execution_count": 11,
   "id": "426cfbdf",
   "metadata": {},
   "outputs": [
    {
     "data": {
      "text/plain": [
       "array(['Limited Liability Company', 'Corporation', 'Individual',\n",
       "       'Non-Profit', 'Partnership', 'Limited Partnership', 'Other',\n",
       "       'Not sure yet', 'Trust', nan], dtype=object)"
      ]
     },
     "execution_count": 11,
     "metadata": {},
     "output_type": "execute_result"
    }
   ],
   "source": [
    "data['business_structure'].unique()"
   ]
  },
  {
   "cell_type": "code",
   "execution_count": null,
   "id": "65b1f3cd",
   "metadata": {},
   "outputs": [
    {
     "name": "stderr",
     "output_type": "stream",
     "text": [
      "/tmp/ipykernel_96728/2849627288.py:5: FutureWarning: A value is trying to be set on a copy of a DataFrame or Series through chained assignment using an inplace method.\n",
      "The behavior will change in pandas 3.0. This inplace method will never work because the intermediate object on which we are setting values always behaves as a copy.\n",
      "\n",
      "For example, when doing 'df[col].method(value, inplace=True)', try using 'df.method({col: value}, inplace=True)' or df[col] = df[col].method(value) instead, to perform the operation inplace on the original object.\n",
      "\n",
      "\n",
      "  data['state'].fillna(data['state'].mode()[0], inplace=True)\n",
      "/tmp/ipykernel_96728/2849627288.py:6: FutureWarning: A value is trying to be set on a copy of a DataFrame or Series through chained assignment using an inplace method.\n",
      "The behavior will change in pandas 3.0. This inplace method will never work because the intermediate object on which we are setting values always behaves as a copy.\n",
      "\n",
      "For example, when doing 'df[col].method(value, inplace=True)', try using 'df.method({col: value}, inplace=True)' or df[col] = df[col].method(value) instead, to perform the operation inplace on the original object.\n",
      "\n",
      "\n",
      "  data['business_structure'].fillna(data['business_structure'].mode()[0], inplace=True)\n",
      "/tmp/ipykernel_96728/2849627288.py:10: FutureWarning: A value is trying to be set on a copy of a DataFrame or Series through chained assignment using an inplace method.\n",
      "The behavior will change in pandas 3.0. This inplace method will never work because the intermediate object on which we are setting values always behaves as a copy.\n",
      "\n",
      "For example, when doing 'df[col].method(value, inplace=True)', try using 'df.method({col: value}, inplace=True)' or df[col] = df[col].method(value) instead, to perform the operation inplace on the original object.\n",
      "\n",
      "\n",
      "  data['industry'].fillna('Unknown', inplace=True)\n",
      "/tmp/ipykernel_96728/2849627288.py:11: FutureWarning: A value is trying to be set on a copy of a DataFrame or Series through chained assignment using an inplace method.\n",
      "The behavior will change in pandas 3.0. This inplace method will never work because the intermediate object on which we are setting values always behaves as a copy.\n",
      "\n",
      "For example, when doing 'df[col].method(value, inplace=True)', try using 'df.method({col: value}, inplace=True)' or df[col] = df[col].method(value) instead, to perform the operation inplace on the original object.\n",
      "\n",
      "\n",
      "  data['subindustry'].fillna('Unknown', inplace=True)\n"
     ]
    }
   ],
   "source": [
    "\n",
    "# Let's fill state, and business_structure with the mode. We have low number (<1%) of nulls here and the impact would be minimal no matter what approach we take.\n",
    "# Besides, we don't have any other information to make a better assumption, and in this case a percentage this low can be due to error in the data provided so we are not introducing too much bias in the data by imputing the mode.\n",
    "\n",
    "\n",
    "data['state'].fillna(data['state'].mode()[0], inplace=True) \n",
    "\n",
    "# We have a category called \"Not sure yet\", we can imput this value\n",
    "data['business_structure'].fillna('Not sure yet', inplace=True)\n",
    "\n",
    "# Now for the industry and subindustry, since the perentage of nulls is higher (around 3.4%) we can create a new category 'Unknown' to fill the nulls, so we don't lose the information that this data was missing and we don't introduce too much bias in the data.\n",
    "data['industry'].fillna('Unknown', inplace=True)\n",
    "data['subindustry'].fillna('Unknown', inplace=True)\n",
    "\n"
   ]
  },
  {
   "cell_type": "code",
   "execution_count": 15,
   "id": "6efffef6",
   "metadata": {},
   "outputs": [
    {
     "data": {
      "text/plain": [
       "business_structure\n",
       "Corporation                  1.0\n",
       "Individual                   0.0\n",
       "Limited Liability Company    0.0\n",
       "Limited Partnership          0.0\n",
       "Non-Profit                   0.0\n",
       "Not sure yet                 0.0\n",
       "Other                        0.0\n",
       "Partnership                  0.0\n",
       "Trust                        0.0\n",
       "Name: num_employees, dtype: float64"
      ]
     },
     "execution_count": 15,
     "metadata": {},
     "output_type": "execute_result"
    }
   ],
   "source": [
    "# Now let's analyze the num_employees. In this case, depending on the business_structure we can have a better idea of the number of employees. For example, if the business_structure is 'Individual' \n",
    "# it is very likely that the number of employees is 0 or 1. On the other hand, if the business_structure is 'Corporation' it is more likely that the number of employees is higher.\n",
    "median_by_structure = data.groupby(['business_structure'])['num_employees'].median()\n",
    "\n",
    "\n",
    "median_by_structure"
   ]
  },
  {
   "cell_type": "code",
   "execution_count": 25,
   "id": "3c7c1619",
   "metadata": {},
   "outputs": [
    {
     "name": "stderr",
     "output_type": "stream",
     "text": [
      "/home/yuttokb/.cache/pypoetry/virtualenvs/demo-FEFZF9DM-py3.12/lib/python3.12/site-packages/numpy/lib/_nanfunctions_impl.py:1214: RuntimeWarning: Mean of empty slice\n",
      "  return np.nanmean(a, axis, out=out, keepdims=keepdims)\n",
      "/home/yuttokb/.cache/pypoetry/virtualenvs/demo-FEFZF9DM-py3.12/lib/python3.12/site-packages/numpy/lib/_nanfunctions_impl.py:1214: RuntimeWarning: Mean of empty slice\n",
      "  return np.nanmean(a, axis, out=out, keepdims=keepdims)\n",
      "/home/yuttokb/.cache/pypoetry/virtualenvs/demo-FEFZF9DM-py3.12/lib/python3.12/site-packages/numpy/lib/_nanfunctions_impl.py:1214: RuntimeWarning: Mean of empty slice\n",
      "  return np.nanmean(a, axis, out=out, keepdims=keepdims)\n",
      "/home/yuttokb/.cache/pypoetry/virtualenvs/demo-FEFZF9DM-py3.12/lib/python3.12/site-packages/numpy/lib/_nanfunctions_impl.py:1214: RuntimeWarning: Mean of empty slice\n",
      "  return np.nanmean(a, axis, out=out, keepdims=keepdims)\n",
      "/home/yuttokb/.cache/pypoetry/virtualenvs/demo-FEFZF9DM-py3.12/lib/python3.12/site-packages/numpy/lib/_nanfunctions_impl.py:1214: RuntimeWarning: Mean of empty slice\n",
      "  return np.nanmean(a, axis, out=out, keepdims=keepdims)\n",
      "/home/yuttokb/.cache/pypoetry/virtualenvs/demo-FEFZF9DM-py3.12/lib/python3.12/site-packages/numpy/lib/_nanfunctions_impl.py:1214: RuntimeWarning: Mean of empty slice\n",
      "  return np.nanmean(a, axis, out=out, keepdims=keepdims)\n",
      "/home/yuttokb/.cache/pypoetry/virtualenvs/demo-FEFZF9DM-py3.12/lib/python3.12/site-packages/numpy/lib/_nanfunctions_impl.py:1214: RuntimeWarning: Mean of empty slice\n",
      "  return np.nanmean(a, axis, out=out, keepdims=keepdims)\n"
     ]
    }
   ],
   "source": [
    "# Let's also consider the industry, since some industries are more likely to have a higher number of employees than others.\n",
    "# For example, a 'Retail' business is more likely to have a higher number of employees than a 'Consulting' business, even if both are 'Corporation'.\n",
    "\n",
    "# Calculate global median first\n",
    "\n",
    "\n",
    "cols = ['num_employees', 'total_payroll', 'annual_revenue','year_established']\n",
    "\n",
    "for col in cols:\n",
    "    global_median = data[col].median()\n",
    "    data[col] = data.groupby(['state','business_structure','industry'])[col].transform(\n",
    "        lambda x: x.fillna(x.median() if not pd.isna(x.median()) else global_median)\n",
    "    )\n",
    "\n"
   ]
  },
  {
   "cell_type": "code",
   "execution_count": 26,
   "id": "d2c2a3a0",
   "metadata": {},
   "outputs": [
    {
     "data": {
      "text/html": [
       "<div>\n",
       "<style scoped>\n",
       "    .dataframe tbody tr th:only-of-type {\n",
       "        vertical-align: middle;\n",
       "    }\n",
       "\n",
       "    .dataframe tbody tr th {\n",
       "        vertical-align: top;\n",
       "    }\n",
       "\n",
       "    .dataframe thead th {\n",
       "        text-align: right;\n",
       "    }\n",
       "</style>\n",
       "<table border=\"1\" class=\"dataframe\">\n",
       "  <thead>\n",
       "    <tr style=\"text-align: right;\">\n",
       "      <th></th>\n",
       "      <th>Nulos</th>\n",
       "      <th>% Nulos</th>\n",
       "      <th>Tipo</th>\n",
       "      <th>Únicos</th>\n",
       "    </tr>\n",
       "  </thead>\n",
       "  <tbody>\n",
       "    <tr>\n",
       "      <th>account_uuid</th>\n",
       "      <td>0</td>\n",
       "      <td>0.0</td>\n",
       "      <td>object</td>\n",
       "      <td>5709</td>\n",
       "    </tr>\n",
       "    <tr>\n",
       "      <th>state</th>\n",
       "      <td>0</td>\n",
       "      <td>0.0</td>\n",
       "      <td>object</td>\n",
       "      <td>57</td>\n",
       "    </tr>\n",
       "    <tr>\n",
       "      <th>industry</th>\n",
       "      <td>0</td>\n",
       "      <td>0.0</td>\n",
       "      <td>object</td>\n",
       "      <td>22</td>\n",
       "    </tr>\n",
       "    <tr>\n",
       "      <th>subindustry</th>\n",
       "      <td>0</td>\n",
       "      <td>0.0</td>\n",
       "      <td>object</td>\n",
       "      <td>483</td>\n",
       "    </tr>\n",
       "    <tr>\n",
       "      <th>year_established</th>\n",
       "      <td>0</td>\n",
       "      <td>0.0</td>\n",
       "      <td>float64</td>\n",
       "      <td>69</td>\n",
       "    </tr>\n",
       "    <tr>\n",
       "      <th>annual_revenue</th>\n",
       "      <td>0</td>\n",
       "      <td>0.0</td>\n",
       "      <td>float64</td>\n",
       "      <td>313</td>\n",
       "    </tr>\n",
       "    <tr>\n",
       "      <th>total_payroll</th>\n",
       "      <td>0</td>\n",
       "      <td>0.0</td>\n",
       "      <td>float64</td>\n",
       "      <td>268</td>\n",
       "    </tr>\n",
       "    <tr>\n",
       "      <th>business_structure</th>\n",
       "      <td>0</td>\n",
       "      <td>0.0</td>\n",
       "      <td>object</td>\n",
       "      <td>9</td>\n",
       "    </tr>\n",
       "    <tr>\n",
       "      <th>num_employees</th>\n",
       "      <td>0</td>\n",
       "      <td>0.0</td>\n",
       "      <td>float64</td>\n",
       "      <td>37</td>\n",
       "    </tr>\n",
       "    <tr>\n",
       "      <th>account_value</th>\n",
       "      <td>0</td>\n",
       "      <td>0.0</td>\n",
       "      <td>float64</td>\n",
       "      <td>2664</td>\n",
       "    </tr>\n",
       "    <tr>\n",
       "      <th>total_quoted_products</th>\n",
       "      <td>0</td>\n",
       "      <td>0.0</td>\n",
       "      <td>int64</td>\n",
       "      <td>18</td>\n",
       "    </tr>\n",
       "  </tbody>\n",
       "</table>\n",
       "</div>"
      ],
      "text/plain": [
       "                       Nulos  % Nulos     Tipo  Únicos\n",
       "account_uuid               0      0.0   object    5709\n",
       "state                      0      0.0   object      57\n",
       "industry                   0      0.0   object      22\n",
       "subindustry                0      0.0   object     483\n",
       "year_established           0      0.0  float64      69\n",
       "annual_revenue             0      0.0  float64     313\n",
       "total_payroll              0      0.0  float64     268\n",
       "business_structure         0      0.0   object       9\n",
       "num_employees              0      0.0  float64      37\n",
       "account_value              0      0.0  float64    2664\n",
       "total_quoted_products      0      0.0    int64      18"
      ]
     },
     "execution_count": 26,
     "metadata": {},
     "output_type": "execute_result"
    }
   ],
   "source": [
    "null_stats = pd.DataFrame({\n",
    "\n",
    "    'Nulos': data.isnull().sum(),\n",
    "    '% Nulos': (data.isnull().sum() / len(data)) * 100,\n",
    "    'Tipo': data.dtypes,\n",
    "    'Únicos': data.nunique()\n",
    "})\n",
    "\n",
    "null_stats\n",
    "# We got null values in every comlumn except account_uuid, account_value and total_quoted_products."
   ]
  },
  {
   "cell_type": "code",
   "execution_count": 28,
   "id": "e012601f",
   "metadata": {},
   "outputs": [],
   "source": [
    "data = data.drop(columns=['total_quoted_products','account_value'])\n",
    "\n",
    "data.to_csv(f'{BASE_DIR}/data/accounts_train_proccessed.csv', index=False)"
   ]
  }
 ],
 "metadata": {
  "kernelspec": {
   "display_name": "demo-FEFZF9DM-py3.12",
   "language": "python",
   "name": "python3"
  },
  "language_info": {
   "codemirror_mode": {
    "name": "ipython",
    "version": 3
   },
   "file_extension": ".py",
   "mimetype": "text/x-python",
   "name": "python",
   "nbconvert_exporter": "python",
   "pygments_lexer": "ipython3",
   "version": "3.12.9"
  }
 },
 "nbformat": 4,
 "nbformat_minor": 5
}
